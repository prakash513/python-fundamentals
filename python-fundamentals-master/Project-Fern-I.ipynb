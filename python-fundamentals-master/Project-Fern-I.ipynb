{
 "cells": [
  {
   "cell_type": "markdown",
   "metadata": {},
   "source": [
    "# Project: Fern"
   ]
  },
  {
   "cell_type": "markdown",
   "metadata": {},
   "source": [
    "### Theory (source: [Wikipedia [1]](https://en.wikipedia.org/wiki/Barnsley_fern))\n",
    "\n",
    "**The first point** drawn is at the origin (x0 = 0, y0 = 0) and then the new points are iteratively computed by randomly applying one of the following four coordinate transformations:[4][5]\n",
    "\n",
    "ƒ1\n",
    "\n",
    "    xn + 1 = 0\n",
    "    yn + 1 = 0.16 yn.\n",
    "\n",
    "This coordinate transformation is chosen 1% of the time and just maps any point to a point in the first line segment at the base of the stem. This part of the figure is the first to be completed during the course of iterations.\n",
    "\n",
    "\n",
    "ƒ2\n",
    "\n",
    "    xn + 1 = 0.85 xn + 0.04 yn\n",
    "    yn + 1 = −0.04 xn + 0.85 yn + 1.6.\n",
    "    \n",
    "This coordinate transformation is chosen 85% of the time and maps any point inside the leaflet represented by the red triangle to a point inside the opposite, smaller leaflet represented by the blue triangle in the figure.\n",
    "\n",
    "ƒ3\n",
    "\n",
    "    xn + 1 = 0.2 xn − 0.26 yn\n",
    "    yn + 1 = 0.23 xn + 0.22 yn + 1.6.\n",
    "    \n",
    "This coordinate transformation is chosen 7% of the time and maps any point inside the leaflet (or pinna) represented by the blue triangle to a point inside the alternating corresponding triangle across the stem (it flips it).\n",
    "\n",
    "ƒ4\n",
    "\n",
    "    xn + 1 = −0.15 xn + 0.28 yn\n",
    "    yn + 1 = 0.26 xn + 0.24 yn + 0.44.\n",
    "    \n",
    "This coordinate transformation is chosen 7% of the time and maps any point inside the leaflet (or pinna) represented by the blue triangle to a point inside the alternating corresponding triangle across the stem (without flipping it).\n",
    "\n",
    "The first coordinate transformation draws the stem. The second generates successive copies of the stem and bottom fronds to make the complete fern. The third draws the bottom frond on the left. The fourth draws the bottom frond on the right. The recursive nature of the IFS guarantees that the whole is a larger replica of each frond. Note that the complete fern is within the range −2.1820 < x < 2.6558 and 0 ≤ y < 9.9983."
   ]
  },
  {
   "cell_type": "markdown",
   "metadata": {},
   "source": [
    "Fern can be created by implementation of ```if loops``` and ```while loop```. We will discuss three different approaches to create fern."
   ]
  },
  {
   "cell_type": "markdown",
   "metadata": {},
   "source": [
    "### Method 1: Direct implementation "
   ]
  },
  {
   "cell_type": "code",
   "execution_count": 1,
   "metadata": {},
   "outputs": [],
   "source": [
    "import matplotlib.pyplot as plt\n",
    "import seaborn as sns\n",
    "import random as random\n",
    "import numpy as np\n",
    "import pandas as pd\n",
    "%matplotlib inline\n",
    "sns.set()"
   ]
  },
  {
   "cell_type": "markdown",
   "metadata": {},
   "source": [
    "#### 1.1 Create Fern Data"
   ]
  },
  {
   "cell_type": "code",
   "execution_count": 13,
   "metadata": {},
   "outputs": [],
   "source": [
    "logfile = open(\"data/log.txt\",'w')"
   ]
  },
  {
   "cell_type": "code",
   "execution_count": 14,
   "metadata": {
    "scrolled": false
   },
   "outputs": [],
   "source": [
    "'''initialize first coordinate'''\n",
    "x = 0\n",
    "y = 0\n",
    "\n",
    "'''create list to hold x and y coordinates'''\n",
    "X = [x]\n",
    "Y = [y]\n",
    "\n",
    "'''initialize t for iteration'''\n",
    "t=1\n",
    "\n",
    "'''set itration number'''\n",
    "ITR = 100000\n",
    "\n",
    "'''set 'isprint' boolean variable to print in logfile/terminal'''\n",
    "isprint = True\n",
    "\n",
    "'''control datapoints with while loop'''\n",
    "while t < ITR:\n",
    "    \n",
    "    '''generate a random variable'''\n",
    "    r = random.uniform(0,100)\n",
    "    \n",
    "    '''condition-I'''\n",
    "    if r <  1.0:\n",
    "        x = 0\n",
    "        y = 0.16*Y[t-1]\n",
    "        X.append(x) ; Y.append(y)\n",
    "        \n",
    "        '''condition-II'''    \n",
    "    elif r > 1.0 and r < 86.0:\n",
    "        x = 0.85*X[t-1] + 0.04*Y[t-1]\n",
    "        y = -0.04*X[t-1] + 0.85*Y[t-1]+1.6\n",
    "        X.append(x);Y.append(y)\n",
    "        \n",
    "        '''condition-III'''    \n",
    "    elif r > 86.0 and r < 93.0:\n",
    "        x = 0.2*X[t-1] - 0.26*Y[t-1]\n",
    "        y = 0.23*X[t-1] + 0.22*Y[t-1] + 1.6\n",
    "        \n",
    "        X.append(x);Y.append(y)\n",
    "    \n",
    "        '''condition-IV'''\n",
    "    elif r > 93.0 and r < 100.0:\n",
    "        x = -0.15*X[t-1] + 0.28*Y[t-1]\n",
    "        y = 0.26*X[t-1] + 0.24*Y[t-1] + 0.44\n",
    "        \n",
    "        X.append(x);Y.append(y)\n",
    "        \n",
    "        \n",
    "    if isprint:\n",
    "        #print(\"step: \",t,\"random number is: \", r,\\\n",
    "        #                \"coordinate is : \", x,y)\n",
    "        \n",
    "        logfile.write(\"step: \" + str(t) + \" random number is: \" + str(r) + \\\n",
    "                         \" coordinate is : \" + str(x) + \",\"+str(y))\n",
    "        \n",
    "        logfile.write(\"\\n\")\n",
    "        \n",
    "        \n",
    "    t = t+1\n",
    "    \n",
    "logfile.close()"
   ]
  },
  {
   "cell_type": "markdown",
   "metadata": {},
   "source": [
    "#### 1.2 Save data to a Json file"
   ]
  },
  {
   "cell_type": "code",
   "execution_count": 15,
   "metadata": {},
   "outputs": [],
   "source": [
    "Data = {\"x\":X,\"y\":Y}"
   ]
  },
  {
   "cell_type": "code",
   "execution_count": 16,
   "metadata": {},
   "outputs": [],
   "source": [
    "import json as json\n",
    "with open(\"data/fern_dictionary.json\",'w') as f:\n",
    "    json.dump(Data,f)\n",
    "    "
   ]
  },
  {
   "cell_type": "markdown",
   "metadata": {},
   "source": [
    "#### 1.3 Create a Dataframe and save data as csv file"
   ]
  },
  {
   "cell_type": "code",
   "execution_count": 17,
   "metadata": {},
   "outputs": [
    {
     "data": {
      "text/html": [
       "<div>\n",
       "<style scoped>\n",
       "    .dataframe tbody tr th:only-of-type {\n",
       "        vertical-align: middle;\n",
       "    }\n",
       "\n",
       "    .dataframe tbody tr th {\n",
       "        vertical-align: top;\n",
       "    }\n",
       "\n",
       "    .dataframe thead th {\n",
       "        text-align: right;\n",
       "    }\n",
       "</style>\n",
       "<table border=\"1\" class=\"dataframe\">\n",
       "  <thead>\n",
       "    <tr style=\"text-align: right;\">\n",
       "      <th></th>\n",
       "      <th>x</th>\n",
       "      <th>y</th>\n",
       "    </tr>\n",
       "  </thead>\n",
       "  <tbody>\n",
       "    <tr>\n",
       "      <th>0</th>\n",
       "      <td>0.000000</td>\n",
       "      <td>0.000000</td>\n",
       "    </tr>\n",
       "    <tr>\n",
       "      <th>1</th>\n",
       "      <td>0.000000</td>\n",
       "      <td>1.600000</td>\n",
       "    </tr>\n",
       "    <tr>\n",
       "      <th>2</th>\n",
       "      <td>0.064000</td>\n",
       "      <td>2.960000</td>\n",
       "    </tr>\n",
       "    <tr>\n",
       "      <th>3</th>\n",
       "      <td>0.172800</td>\n",
       "      <td>4.113440</td>\n",
       "    </tr>\n",
       "    <tr>\n",
       "      <th>4</th>\n",
       "      <td>0.311418</td>\n",
       "      <td>5.089512</td>\n",
       "    </tr>\n",
       "  </tbody>\n",
       "</table>\n",
       "</div>"
      ],
      "text/plain": [
       "          x         y\n",
       "0  0.000000  0.000000\n",
       "1  0.000000  1.600000\n",
       "2  0.064000  2.960000\n",
       "3  0.172800  4.113440\n",
       "4  0.311418  5.089512"
      ]
     },
     "execution_count": 17,
     "metadata": {},
     "output_type": "execute_result"
    }
   ],
   "source": [
    "DF = pd.DataFrame(Data)\n",
    "DF.head()"
   ]
  },
  {
   "cell_type": "code",
   "execution_count": 18,
   "metadata": {},
   "outputs": [],
   "source": [
    "DF.to_csv('data/fern_dataframe.csv')"
   ]
  },
  {
   "cell_type": "markdown",
   "metadata": {},
   "source": [
    "#### 1.4 Create a Plot and save it as png/pdf file"
   ]
  },
  {
   "cell_type": "code",
   "execution_count": 20,
   "metadata": {},
   "outputs": [
    {
     "data": {
      "image/png": "[encoded data removed]",
      "text/plain": [
       "<Figure size 360x648 with 1 Axes>"
      ]
     },
     "metadata": {
      "needs_background": "light"
     },
     "output_type": "display_data"
    }
   ],
   "source": [
    "plt.figure(figsize = [5,9])\n",
    "plt.scatter(X,Y,color = 'g',marker = '.')\n",
    "plt.savefig(\"plot/fern.pdf\")\n",
    "plt.savefig(\"plot/fern.png\")\n",
    "plt.show()"
   ]
  },
  {
   "cell_type": "markdown",
   "metadata": {},
   "source": [
    "---------"
   ]
  },
  {
   "cell_type": "markdown",
   "metadata": {},
   "source": [
    "### Mini Assignment\n",
    "- Define random walk in 2D\n",
    "- Create a random walk data and save data to file (json/csv)\n",
    "- Create a plot for random walk in 2D as save the plot as (pdf/png) file"
   ]
  },
  {
   "cell_type": "markdown",
   "metadata": {},
   "source": [
    "- Hint"
   ]
  },
  {
   "cell_type": "code",
   "execution_count": null,
   "metadata": {},
   "outputs": [],
   "source": [
    "'''if you are in (xi,yi) position go to (xf,yf)'''\n",
    "\n",
    "'''set up xi,yi'''\n",
    "<TO DO>\n",
    "\n",
    "'''store x and y into X and Y list'''\n",
    "<TO DO>\n",
    "\n",
    "''' iterate to N steps using for loop'''\n",
    "<TO DO>\n",
    "        direction =  random.choice(['x','y'])\n",
    "        if direction == 'x':\n",
    "            r = random.choice([-1,1])\n",
    "            x = X[t-1] +rx\n",
    "            y = Y[t-1]\n",
    "        if direction == 'y':\n",
    "            r = random.choice([-1,1])\n",
    "            y = Y[t-1] + ry\n",
    "            x = X[t-1]\n",
    "    \n",
    "        '''remember to update X and Y in every loop'''\n",
    "        X.append(x)\n",
    "        Y.append(y)"
   ]
  },
  {
   "cell_type": "code",
   "execution_count": null,
   "metadata": {},
   "outputs": [],
   "source": []
  },
  {
   "cell_type": "markdown",
   "metadata": {},
   "source": [
    "### Reference:\n",
    "[1] [Barnsley fern](https://en.wikipedia.org/wiki/Barnsley_fern)"
   ]
  }
 ],
 "metadata": {
  "kernelspec": {
   "display_name": "Python 3",
   "language": "python",
   "name": "python3"
  },
  "language_info": {
   "codemirror_mode": {
    "name": "ipython",
    "version": 3
   },
   "file_extension": ".py",
   "mimetype": "text/x-python",
   "name": "python",
   "nbconvert_exporter": "python",
   "pygments_lexer": "ipython3",
   "version": "3.7.3"
  }
 },
 "nbformat": 4,
 "nbformat_minor": 2
}
