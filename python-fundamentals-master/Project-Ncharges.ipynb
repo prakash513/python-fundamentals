{
 "cells": [
  {
   "cell_type": "markdown",
   "metadata": {},
   "source": [
    "# N-charge system"
   ]
  },
  {
   "cell_type": "markdown",
   "metadata": {},
   "source": [
    "- The electric field for a single charge is given by:\n",
    "\\\\( E = q * \\frac{\\hat{r}}{r} \\\\) \n",
    "- The electric Potential: \\\\( V  = q * \\frac{1}{r} \\\\).\n",
    "- In cartesian coordinate: \\\\( \\frac{1}{r}  = \\frac{1}{\\sqrt{((x-x^{'})^{2} + (y - y^{'})^{2})}} \\\\)."
   ]
  },
  {
   "cell_type": "code",
   "execution_count": 9,
   "metadata": {},
   "outputs": [],
   "source": [
    "import numpy as np\n",
    "import matplotlib.pyplot as plt\n",
    "from matplotlib import cm\n",
    "import seaborn as sns\n",
    "sns.set()"
   ]
  },
  {
   "cell_type": "markdown",
   "metadata": {},
   "source": [
    "#### Class Charge\n",
    "Lets create a class ```Charge``` with function ```line``` to calculate the distance between source and field point and function ```V_point_charge``` to calculate the electric potential ata  fileld point ```x,y``` due to source poin at ```pos```."
   ]
  },
  {
   "cell_type": "code",
   "execution_count": 10,
   "metadata": {},
   "outputs": [],
   "source": [
    "class Charge:\n",
    "    \n",
    "    '''Data incapsulation'''\n",
    "    def __init__(self, q, pos):\n",
    "        self.q = q\n",
    "        self.pos = pos\n",
    "        \n",
    "        \n",
    "    def line(self, x,y):\n",
    "        '''create a vector from charge to observation point'''\n",
    "        self.vector = [x-self.pos[0],y-self.pos[1]]\n",
    "        '''norm of the vector'''\n",
    "        self.norm = np.sqrt((self.vector[0])**2+(self.vector[1])**2)\n",
    "        \n",
    "    \n",
    "    def V_point_charge(self, x, y):\n",
    "        '''recall length'''\n",
    "        self.line(x,y)\n",
    "        '''Make sure to exclude source itself'''\n",
    "        if self.norm > 0:\n",
    "            self.V = self.q/self.norm\n",
    "            \n",
    "            '''if length is zero, set V equal to 0'''\n",
    "        elif self.norm == 0:\n",
    "            self.V = 0\n",
    "            \n",
    "        return self.V"
   ]
  },
  {
   "cell_type": "markdown",
   "metadata": {},
   "source": [
    "#### Example :  \n",
    "\n",
    "Lets use charge ```q = 100``` at posiotion ```x =1``` and ```y =1``` to find electric potential at different points in 2D"
   ]
  },
  {
   "cell_type": "code",
   "execution_count": 11,
   "metadata": {},
   "outputs": [],
   "source": [
    "C = Charge(100, [1,1])"
   ]
  },
  {
   "cell_type": "code",
   "execution_count": 12,
   "metadata": {},
   "outputs": [
    {
     "name": "stdout",
     "output_type": "stream",
     "text": [
      "0 0 | 70.71067811865474\n",
      "0 1 | 100.0\n",
      "0 2 | 70.71067811865474\n",
      "1 0 | 100.0\n",
      "1 1 | 0\n",
      "1 2 | 100.0\n",
      "2 0 | 70.71067811865474\n",
      "2 1 | 100.0\n",
      "2 2 | 70.71067811865474\n"
     ]
    }
   ],
   "source": [
    "for x in range(3):\n",
    "    for y in range(3):\n",
    "        print(x,y, \"|\", C.V_point_charge(x, y))"
   ]
  },
  {
   "cell_type": "markdown",
   "metadata": {},
   "source": [
    "#### Total Electric potential\n",
    "Total electric potential at a point ```x,y``` is the sum of contribution of all charges defined in class ```Charge```."
   ]
  },
  {
   "cell_type": "code",
   "execution_count": 13,
   "metadata": {},
   "outputs": [],
   "source": [
    "def V_total(x, y, charges):\n",
    "    V = 0\n",
    "    for C in charges:\n",
    "        Vp = C.V_point_charge(x, y)\n",
    "        V  = V+Vp\n",
    "    return V"
   ]
  },
  {
   "cell_type": "markdown",
   "metadata": {},
   "source": [
    "- Example: Lets use collection of charges to find a electric potential at point x = 4, y =4"
   ]
  },
  {
   "cell_type": "code",
   "execution_count": 14,
   "metadata": {},
   "outputs": [
    {
     "data": {
      "text/plain": [
       "5.892446541150622"
      ]
     },
     "execution_count": 14,
     "metadata": {},
     "output_type": "execute_result"
    }
   ],
   "source": [
    "sample_charges = [Charge(q = 20, pos = [23,34]),\n",
    "                  Charge(q = 25, pos = [13,48]),\n",
    "                  Charge(q = 40, pos = [3,14]),\n",
    "                  Charge(q = 80, pos = [88,60])]\n",
    "\n",
    "\n",
    "V_total(x=4, y=4, charges = sample_charges)"
   ]
  },
  {
   "cell_type": "markdown",
   "metadata": {},
   "source": [
    "####  Lattice of charges (```scatter```)\n",
    "Now, we are going to implement ```Charge``` class to define charge distribution and calculate electric potential at several places.\n",
    "\n",
    " - To create a lattice of charges."
   ]
  },
  {
   "cell_type": "code",
   "execution_count": 15,
   "metadata": {},
   "outputs": [],
   "source": [
    "'''first charge to be at x=1,y=1'''\n",
    "q = 100\n",
    "\n",
    "'''Dictionary to collect charges, x and y xoordinates'''\n",
    "Qd = []\n",
    "\n",
    "'''List to collect Charge objects'''\n",
    "charges = []\n",
    "\n",
    "\n",
    "'''use for loops to construct collection of charges objects'''\n",
    "for i in range(5):\n",
    "    for j in range(5):\n",
    "        \n",
    "        '''Collecting charges and their coordinates'''\n",
    "        Qd.append({\"q\": q, \"x\": i*20, \"y\":j*20})\n",
    "        \n",
    "        \n",
    "        '''charge objects are being collected'''\n",
    "        charges.append(Charge(q , [20*i, 20*j]))\n",
    "        \n",
    "        '''change the sign of charge alternatly'''\n",
    "        q = -q\n",
    "  "
   ]
  },
  {
   "cell_type": "markdown",
   "metadata": {},
   "source": [
    "- To visualize lattice of charges"
   ]
  },
  {
   "cell_type": "code",
   "execution_count": 16,
   "metadata": {},
   "outputs": [
    {
     "data": {
      "image/png": "[encoded data removed]",
      "text/plain": [
       "<Figure size 576x432 with 1 Axes>"
      ]
     },
     "metadata": {},
     "output_type": "display_data"
    }
   ],
   "source": [
    "'''Plot the lattice of charges'''\n",
    "\n",
    "plt.figure(figsize = [8,6])\n",
    "\n",
    "for item in Qd:\n",
    "    \n",
    "    '''Sctaeer as red dot if charge is positive'''\n",
    "    if item['q']> 0:\n",
    "        plt.scatter(item['x'], item['y'], c = 'r',s =100)\n",
    "        \n",
    "        \n",
    "        '''Scatter as blue dot if charge is negative'''\n",
    "    else:\n",
    "        plt.scatter(item['x'], item['y'], c = 'b',s =100)\n",
    "        \n",
    "plt.xlabel(\"X-axis\")  \n",
    "plt.ylabel(\"Y-asis\")\n",
    "plt.show()"
   ]
  },
  {
   "cell_type": "markdown",
   "metadata": {},
   "source": [
    "#### Electric Potential (```heatmap```)"
   ]
  },
  {
   "cell_type": "markdown",
   "metadata": {},
   "source": [
    "- To find Electric Potential at several points due to lattice of charges"
   ]
  },
  {
   "cell_type": "code",
   "execution_count": 17,
   "metadata": {},
   "outputs": [],
   "source": [
    "'''Create X and Y coordinate'''\n",
    "X = np.arange(-10,110,2)\n",
    "Y = np.arange(-10,110,2)\n",
    "\n",
    "'''Initiate vacant V-list of list'''\n",
    "V = [[0.0 for i in range(len(X))] for j in range(len(Y))]\n",
    "\n",
    "'''Calculate Electric potential at each x,y coordinate'''\n",
    "for i,x in enumerate(X):\n",
    "    for j,y in enumerate(Y):\n",
    "        v = V_total(x, y, charges)\n",
    "        V[i][j] = v       "
   ]
  },
  {
   "cell_type": "code",
   "execution_count": 18,
   "metadata": {},
   "outputs": [],
   "source": [
    "VV = np.array(V)"
   ]
  },
  {
   "cell_type": "markdown",
   "metadata": {},
   "source": [
    "- To plot Electric potential "
   ]
  },
  {
   "cell_type": "code",
   "execution_count": 19,
   "metadata": {},
   "outputs": [
    {
     "data": {
      "image/png": "[encoded data removed]",
      "text/plain": [
       "<Figure size 864x720 with 2 Axes>"
      ]
     },
     "metadata": {},
     "output_type": "display_data"
    }
   ],
   "source": [
    "plt.figure(figsize = [12,10])\n",
    "sns.heatmap(VV,annot=False,cmap='YlGnBu')\n",
    "plt.xlabel(\"X-axis\")\n",
    "plt.ylabel(\"Y-axis\")\n",
    "plt.title(\"Electric field of lattice of charges\")\n",
    "plt.show()"
   ]
  }
 ],
 "metadata": {
  "kernelspec": {
   "display_name": "Python 3",
   "language": "python",
   "name": "python3"
  },
  "language_info": {
   "codemirror_mode": {
    "name": "ipython",
    "version": 3
   },
   "file_extension": ".py",
   "mimetype": "text/x-python",
   "name": "python",
   "nbconvert_exporter": "python",
   "pygments_lexer": "ipython3",
   "version": "3.7.3"
  }
 },
 "nbformat": 4,
 "nbformat_minor": 2
}
